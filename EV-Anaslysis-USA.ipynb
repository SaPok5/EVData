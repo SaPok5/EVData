{
  "cells": [
    {
      "cell_type": "markdown",
      "metadata": {},
      "source": [
        "# EV Charging Station Analysis\n",
        "This notebook analyzes electric vehicle (EV) data to determine optimal locations for EV charging stations in Washington state."
      ]
    },
    {
      "cell_type": "markdown",
      "metadata": {},
      "source": [
        "## Step 1: Install Required Libraries"
      ]
    },
    {
      "cell_type": "code",
      "execution_count": null,
      "metadata": {},
      "outputs": [],
      "source": [
        "!pip install pandas psycopg2 sqlalchemy folium seaborn matplotlib"
      ]
    },
    {
      "cell_type": "markdown",
      "metadata": {},
      "source": [
        "## Step 2: Load Data into PostgreSQL"
      ]
    },
    {
      "cell_type": "code",
      "execution_count": null,
      "metadata": {},
      "outputs": [],
      "source": [
        "import pandas as pd\n",
        "from sqlalchemy import create_engine\n",
        "from urllib.parse import quote_plus\n",
        "#please enter yourdetails of SQl database, POstgres in this case\n",
        "# Database connection parameters (Change these as needed)\n",
        "DB_NAME = \"ev_registrations\"\n",
        "DB_USER = \"postgres\"\n",
        "DB_PASS = \"@Samip_5\"\n",
        "DB_HOST = \"localhost\"\n",
        "DB_PORT = \"5432\"\n",
        "\n",
        "# URL encode the password\n",
        "DB_PASS_ENCODED = quote_plus(DB_PASS)\n",
        "\n",
        "# Create a connection to PostgreSQL\n",
        "engine = create_engine(f\"postgresql://{DB_USER}:{DB_PASS_ENCODED}@{DB_HOST}:{DB_PORT}/{DB_NAME}\")\n",
        "\n",
        "# Load CSV into Pandas\n",
        "file_path = \"CleanEV.csv\"\n",
        "df = pd.read_csv(file_path)\n",
        "\n",
        "# Store data in PostgreSQL table\n",
        "table_name = \"ev_data\"\n",
        "df.to_sql(table_name, engine, if_exists=\"replace\", index=False)\n",
        "\n",
        "print(f\"Data successfully loaded into PostgreSQL table: {table_name}\")\n"
      ]
    },
    {
      "cell_type": "markdown",
      "metadata": {},
      "source": [
        "## Step 3: Fetch and Explore Data"
      ]
    },
    {
      "cell_type": "code",
      "execution_count": null,
      "metadata": {},
      "outputs": [],
      "source": [
        "query = 'SELECT * FROM ev_data LIMIT 5'\n",
        "df_sql = pd.read_sql(query, engine)\n",
        "df_sql.head()"
      ]
    },
    {
      "cell_type": "markdown",
      "metadata": {},
      "source": [
        "# Step 3.1: Query - Top 5 Counties with Highest EV Adoption\n"
      ]
    },
    {
      "cell_type": "code",
      "execution_count": 15,
      "metadata": {},
      "outputs": [
        {
          "name": "stdout",
          "output_type": "stream",
          "text": [
            "Top 5 Counties with Highest EV Adoption:\n",
            "      county  ev_count\n",
            "0       King      8457\n",
            "1      Clark      1248\n",
            "2  Snohomish       924\n",
            "3     Kitsap       692\n",
            "4   Thurston       530\n"
          ]
        }
      ],
      "source": [
        "top_counties = pd.read_sql(\"\"\"\n",
        "    SELECT county, COUNT(*) as ev_count \n",
        "    FROM ev_data \n",
        "    GROUP BY county \n",
        "    ORDER BY ev_count DESC \n",
        "    LIMIT 5;\n",
        "\"\"\", engine)\n",
        "print(\"Top 5 Counties with Highest EV Adoption:\")\n",
        "print(top_counties)\n"
      ]
    },
    {
      "cell_type": "markdown",
      "metadata": {},
      "source": [
        "# Step 4.1: K-Means Clustering for Optimal Charging Locations\n"
      ]
    },
    {
      "cell_type": "code",
      "execution_count": null,
      "metadata": {},
      "outputs": [],
      "source": [
        "\n",
        "import matplotlib.pyplot as plt\n",
        "from sklearn.cluster import KMeans\n",
        "import seaborn  as sns\n",
        "# Step 7: K-Means Clustering for Optimal Charging Locations\n",
        "print(\"Performing K-Means Clustering...\")\n",
        "locations = df[['latitude', 'longitude']].dropna()  # Ensure locations is defined\n",
        "kmeans = KMeans(n_clusters=5, random_state=42).fit(locations)\n",
        "df['cluster'] = kmeans.labels_\n",
        "plt.figure(figsize=(10,6))\n",
        "sns.scatterplot(x=df['longitude'], y=df['latitude'], hue=df['cluster'], palette='viridis')\n",
        "plt.title(\"EV Charging Station Clusters\")\n",
        "plt.xlabel(\"Longitude\")\n",
        "plt.ylabel(\"Latitude\")\n",
        "plt.show()"
      ]
    },
    {
      "cell_type": "markdown",
      "metadata": {},
      "source": [
        "## Step 4.2: EV Density Heatmap"
      ]
    },
    {
      "cell_type": "code",
      "execution_count": null,
      "metadata": {},
      "outputs": [],
      "source": [
        "import folium\n",
        "from folium.plugins import HeatMap\n",
        "from IPython.display import display\n",
        "\n",
        "locations = df[['latitude', 'longitude']].dropna()\n",
        "map_center = [locations['latitude'].mean(), locations['longitude'].mean()]\n",
        "ev_map = folium.Map(location=map_center, zoom_start=7)\n",
        "HeatMap(list(zip(locations['latitude'], locations['longitude']))).add_to(ev_map)\n",
        "display(ev_map)"
      ]
    },
    {
      "cell_type": "markdown",
      "metadata": {},
      "source": [
        "## Step 5: BEV vs. PHEV Distribution"
      ]
    },
    {
      "cell_type": "code",
      "execution_count": null,
      "metadata": {},
      "outputs": [],
      "source": [
        "import matplotlib.pyplot as plt\n",
        "import seaborn as sns\n",
        "\n",
        "plt.figure(figsize=(8, 5))\n",
        "sns.countplot(data=df, x='electric_vehicle_type', palette='coolwarm')\n",
        "plt.title('Distribution of BEVs vs. PHEVs')\n",
        "plt.xlabel('EV Type')\n",
        "plt.ylabel('Count')\n",
        "plt.show()"
      ]
    },
    {
      "cell_type": "markdown",
      "metadata": {},
      "source": [
        "## Step 6: EV Adoption Over Time"
      ]
    },
    {
      "cell_type": "code",
      "execution_count": null,
      "metadata": {},
      "outputs": [],
      "source": [
        "plt.figure(figsize=(10, 5))\n",
        "sns.histplot(df['model_year'], bins=20, kde=True, color='blue')\n",
        "plt.title('EV Adoption Over Time')\n",
        "plt.xlabel('Model Year')\n",
        "plt.ylabel('Number of EVs')\n",
        "plt.show()"
      ]
    },
    {
      "cell_type": "markdown",
      "metadata": {},
      "source": [
        "# Step 6.2: Predictive Analysis - EV Growth Over Time\n"
      ]
    },
    {
      "cell_type": "code",
      "execution_count": 17,
      "metadata": {},
      "outputs": [
        {
          "name": "stdout",
          "output_type": "stream",
          "text": [
            "Predicting Future EV Growth...\n"
          ]
        },
        {
          "name": "stderr",
          "output_type": "stream",
          "text": [
            "C:\\Users\\samip\\AppData\\Local\\Packages\\PythonSoftwareFoundation.Python.3.12_qbz5n2kfra8p0\\LocalCache\\local-packages\\Python312\\site-packages\\sklearn\\utils\\validation.py:2739: UserWarning: X does not have valid feature names, but LinearRegression was fitted with feature names\n",
            "  warnings.warn(\n"
          ]
        },
        {
          "data": {
            "image/png": "[encoded data removed]",
            "text/plain": [
              "<Figure size 1000x500 with 1 Axes>"
            ]
          },
          "metadata": {},
          "output_type": "display_data"
        }
      ],
      "source": [
        "from sklearn.model_selection import train_test_split\n",
        "from sklearn.linear_model import LinearRegression\n",
        "\n",
        "print(\"Predicting Future EV Growth...\")\n",
        "model_years = df.groupby('model_year').size().reset_index(name='ev_count')\n",
        "X = model_years[['model_year']]\n",
        "y = model_years['ev_count']\n",
        "\n",
        "X_train, X_test, y_train, y_test = train_test_split(X, y, test_size=0.2, random_state=42)\n",
        "model = LinearRegression()\n",
        "model.fit(X_train, y_train)\n",
        "predictions = model.predict([[2025], [2030], [2035]])\n",
        "\n",
        "plt.figure(figsize=(10,5))\n",
        "sns.lineplot(x=model_years['model_year'], y=model_years['ev_count'], marker='o', label='Actual Data')\n",
        "sns.lineplot(x=[2025, 2030, 2035], y=predictions, marker='o', linestyle='dashed', label='Predicted Data')\n",
        "plt.title(\"EV Growth Projection\")\n",
        "plt.xlabel(\"Model Year\")\n",
        "plt.ylabel(\"EV Count\")\n",
        "plt.legend()\n",
        "plt.show()"
      ]
    },
    {
      "cell_type": "markdown",
      "metadata": {},
      "source": [
        "## Step 7: EV Distribution by Electric Utility"
      ]
    },
    {
      "cell_type": "code",
      "execution_count": null,
      "metadata": {},
      "outputs": [],
      "source": [
        "plt.figure(figsize=(12, 6))\n",
        "df['electric_utility'].value_counts().plot(kind='bar', color='green')\n",
        "plt.title('EV Registrations by Electric Utility')\n",
        "plt.xlabel('Electric Utility Provider')\n",
        "plt.ylabel('Number of EVs')\n",
        "plt.xticks(rotation=90)\n",
        "plt.show()"
      ]
    },
    {
      "cell_type": "markdown",
      "metadata": {},
      "source": [
        "# Step 8: Effectiveness Analysis - BEV vs. PHEV\n"
      ]
    },
    {
      "cell_type": "code",
      "execution_count": null,
      "metadata": {},
      "outputs": [],
      "source": [
        "print(\"Analyzing the Effectiveness of BEVs vs. PHEVs...\")\n",
        "bev_phev_counts = df['electric_vehicle_type'].value_counts()\n",
        "bev_phev_mileage = df.groupby('electric_vehicle_type')['electric_range'].mean()\n",
        "\n",
        "plt.figure(figsize=(8,5))\n",
        "sns.barplot(x=bev_phev_counts.index, y=bev_phev_counts.values, palette='coolwarm')\n",
        "plt.title(\"Total Registrations of BEVs vs. PHEVs\")\n",
        "plt.xlabel(\"EV Type\")\n",
        "plt.ylabel(\"Count\")\n",
        "plt.show()\n",
        "\n",
        "plt.figure(figsize=(8,5))\n",
        "sns.barplot(x=bev_phev_mileage.index, y=bev_phev_mileage.values, palette='coolwarm')\n",
        "plt.title(\"Average Electric Range of BEVs vs. PHEVs\")\n",
        "plt.xlabel(\"EV Type\")\n",
        "plt.ylabel(\"Average Electric Range (miles)\")\n",
        "plt.show()\n",
        "\n"
      ]
    },
    {
      "cell_type": "markdown",
      "metadata": {},
      "source": [
        "## Insights and Recommendations\n",
        "\n",
        "### Key Findings\n",
        "1. **High-Demand Areas** (5.1):\n",
        "   - Counties like [insert top counties from output] and census tracts [insert top tracts] show the highest EV concentrations, indicating immediate charging station needs.\n",
        "   - Geospatial clusters suggest urban centers; rural areas need targeted coverage.\n",
        "\n",
        "2. **Charging Needs by EV Type** (5.2):\n",
        "   - BEVs (longer range) require fast-charging stations; PHEVs (shorter range) need more Level 2 chargers.\n",
        "   - [Insert BEV/PHEV ratio from output] influences station type prioritization.\n",
        "\n",
        "3. **Utility Support** (5.4):\n",
        "   - Top utilities (e.g., [insert top utilities]) serve most EVs, suggesting strong grid capacity but potential strain points.\n",
        "   - Collaborate with these utilities for infrastructure synergy.\n",
        "\n",
        "4. **Future Growth** (5.3):\n",
        "   - Rising EV registrations (especially post-[insert trend year]) indicate accelerating demand; plan for 20-30% annual growth.\n",
        "\n",
        "5. **Equity** (5.5):\n",
        "   - High-density (urban) areas dominate EV counts; low-density (rural) areas need subsidized stations for equitable access.\n",
        "\n",
        "### Recommendations\n",
        "- **Urban Priority**: Install fast-charging hubs in top counties and census tracts (e.g., [insert specifics]).\n",
        "- **Rural Expansion**: Deploy Level 2 chargers in low-density counties with incentives to reduce range anxiety.\n",
        "- **Utility Partnerships**: Work with [top utilities] for grid upgrades and cost-sharing.\n",
        "- **Future Planning**: Scale infrastructure anticipating [growth rate] increase over 5 years.\n",
        "- **Equity Focus**: Subsidize rural installations to ensure statewide coverage."
      ]
    }
  ],
  "metadata": {
    "kernelspec": {
      "display_name": "Python 3",
      "language": "python",
      "name": "python3"
    },
    "language_info": {
      "codemirror_mode": {
        "name": "ipython",
        "version": 3
      },
      "file_extension": ".py",
      "mimetype": "text/x-python",
      "name": "python",
      "nbconvert_exporter": "python",
      "pygments_lexer": "ipython3",
      "version": "3.12.9"
    }
  },
  "nbformat": 4,
  "nbformat_minor": 4
}
